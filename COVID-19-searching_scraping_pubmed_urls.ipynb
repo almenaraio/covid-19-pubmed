{
 "cells": [
  {
   "cell_type": "code",
   "execution_count": 1,
   "metadata": {},
   "outputs": [
    {
     "data": {
      "text/plain": [
       "\"\\nCODE BASED ON:\\nhttps://stackoverflow.com/questions/41433730/python-is-there-a-way-to-scrape-the-abstract-text-from-the-articles-within-each\\nSearching and Scraping PubMed for Journals' Scientific Articles on COVID-19 - 2019-nCoV\\nTeam: minsky.cc - PE\\n\""
      ]
     },
     "execution_count": 1,
     "metadata": {},
     "output_type": "execute_result"
    }
   ],
   "source": [
    "\"\"\"\n",
    "CODE BASED ON:\n",
    "https://stackoverflow.com/questions/41433730/python-is-there-a-way-to-scrape-the-abstract-text-from-the-articles-within-each\n",
    "Searching and Scraping PubMed for Journals' Scientific Articles on COVID-19 - 2019-nCoV\n",
    "Team: minsky.cc - PE\n",
    "\"\"\""
   ]
  },
  {
   "cell_type": "code",
   "execution_count": 6,
   "metadata": {},
   "outputs": [],
   "source": [
    "import unicodecsv as csv\n",
    "from lxml import html\n",
    "import lxml.html.clean\n",
    "import requests"
   ]
  },
  {
   "cell_type": "code",
   "execution_count": 7,
   "metadata": {},
   "outputs": [],
   "source": [
    "csv_out = open('PubMed_COVID19_Results.csv', 'ab')"
   ]
  },
  {
   "cell_type": "code",
   "execution_count": 8,
   "metadata": {},
   "outputs": [],
   "source": [
    "writer = csv.writer(csv_out, dialect='excel', delimiter=',', encoding='utf-8')"
   ]
  },
  {
   "cell_type": "code",
   "execution_count": 9,
   "metadata": {},
   "outputs": [
    {
     "data": {
      "text/plain": [
       "39"
      ]
     },
     "execution_count": 9,
     "metadata": {},
     "output_type": "execute_result"
    }
   ],
   "source": [
    "writer.writerow(['Search_Term', 'Result', 'Title', 'URL', 'Abstract'])"
   ]
  },
  {
   "cell_type": "code",
   "execution_count": 10,
   "metadata": {},
   "outputs": [],
   "source": [
    "# Search Strategy: \"COVID-19\" [Supplementary Concept] OR 2019-nCoV OR COVID-19 OR SARS-CoV-2 OR coronavirus\n",
    "Search_Term = '%22COVID-19%22+%5BSupplementary+Concept%5D+OR+2019-nCoV+OR+COVID-19+OR+SARS-CoV-2+OR+coronavirus'"
   ]
  },
  {
   "cell_type": "code",
   "execution_count": 11,
   "metadata": {},
   "outputs": [],
   "source": [
    "# Displaying max. 200 results\n",
    "Search_URL = 'https://www.ncbi.nlm.nih.gov/pubmed?term=' + Search_Term + '&dispmax=200'"
   ]
  },
  {
   "cell_type": "code",
   "execution_count": 12,
   "metadata": {},
   "outputs": [],
   "source": [
    "Search_Page = requests.get(Search_URL)"
   ]
  },
  {
   "cell_type": "code",
   "execution_count": 13,
   "metadata": {},
   "outputs": [],
   "source": [
    "Search_Tree = html.fromstring(Search_Page.content)"
   ]
  },
  {
   "cell_type": "code",
   "execution_count": 14,
   "metadata": {},
   "outputs": [],
   "source": [
    "# total number of results\n",
    "Search_Results = Search_Tree.xpath('//h3[@class=\"result_count left\"]/text()')"
   ]
  },
  {
   "cell_type": "code",
   "execution_count": 15,
   "metadata": {},
   "outputs": [],
   "source": [
    "Num_Results = str([' '.join(str(result).split()) for result in Search_Results])"
   ]
  },
  {
   "cell_type": "code",
   "execution_count": 16,
   "metadata": {},
   "outputs": [],
   "source": [
    "Num_Results_Val = Num_Results[Num_Results.find('of') + 3:-2]"
   ]
  },
  {
   "cell_type": "code",
   "execution_count": 17,
   "metadata": {},
   "outputs": [],
   "source": [
    "# Links for results 1-200\n",
    "title_cleaner = lxml.html.clean.Cleaner(allow_tags=['div', 'p', 'a'], remove_unknown_tags=False)"
   ]
  },
  {
   "cell_type": "code",
   "execution_count": 18,
   "metadata": {},
   "outputs": [],
   "source": [
    "Title_Tree = title_cleaner.clean_html(Search_Tree)"
   ]
  },
  {
   "cell_type": "code",
   "execution_count": 19,
   "metadata": {},
   "outputs": [],
   "source": [
    "Pub_Results = Title_Tree.xpath('//div[@class=\"rprt\"]/div[@class=\"rslt\"]/p[@class=\"title\"]/a')"
   ]
  },
  {
   "cell_type": "code",
   "execution_count": 20,
   "metadata": {},
   "outputs": [],
   "source": [
    "r = 1"
   ]
  },
  {
   "cell_type": "code",
   "execution_count": 21,
   "metadata": {},
   "outputs": [],
   "source": [
    "# This will take a while, so wait until it finishes\n",
    "for Pub_Result in Pub_Results:\n",
    "    Result_Num = str(r) + '/' + str(Num_Results_Val)\n",
    "    Pub_Title = ' '.join(Pub_Result.text_content().split())\n",
    "    Rel_URL = Pub_Result.get('href')\n",
    "    Pub_URL = Rel_URL.replace('/pubmed/', 'https://www.ncbi.nlm.nih.gov/pubmed/')\n",
    "    Pub_Page = requests.get(Pub_URL)\n",
    "    Pub_Tree = html.fromstring(Pub_Page.content)\n",
    "    Abstract = ''.join(Pub_Tree.xpath('//abstracttext/text()'))\n",
    "    writer.writerow([Search_Term, Result_Num, Pub_Title, Pub_URL, Abstract])\n",
    "    r += 1"
   ]
  },
  {
   "cell_type": "code",
   "execution_count": 22,
   "metadata": {},
   "outputs": [],
   "source": [
    "csv_out.close()\n",
    "exit()"
   ]
  }
 ],
 "metadata": {
  "kernelspec": {
   "display_name": "Python 3",
   "language": "python",
   "name": "python3"
  },
  "language_info": {
   "codemirror_mode": {
    "name": "ipython",
    "version": 3
   },
   "file_extension": ".py",
   "mimetype": "text/x-python",
   "name": "python",
   "nbconvert_exporter": "python",
   "pygments_lexer": "ipython3",
   "version": "3.7.1"
  }
 },
 "nbformat": 4,
 "nbformat_minor": 2
}
